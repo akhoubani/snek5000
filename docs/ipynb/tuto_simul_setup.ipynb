{
 "cells": [
  {
   "cell_type": "markdown",
   "metadata": {
    "tags": []
   },
   "source": [
    "#  Part 1: Setting up the simulation\n",
    "\n",
    "The [phill example](https://github.com/KTH-Nek5000/KTH_Examples/tree/master/phill_STAT) has been adapted for a workflow using snek5000 and pymech. Here we will show how a workflow looks like. To get started, we install everything we need:\n",
    "\n",
    "```sh\n",
    "python -m venv venv\n",
    "source venv/bin/activate\n",
    "pip install snek5000 pymech -e \"git+https://github.com/exabl/snek5000-phill#egg=phill\"\n",
    "```\n",
    "\n",
    "```{note}\n",
    "The repository `snek5000-phill` provides a Python package `phill` - the same\n",
    "name as the `usr` files. More on packaging Nek5000 files can be found in the\n",
    "{ref}`packaging tutorial <packaging>`.\n",
    "```"
   ]
  },
  {
   "cell_type": "markdown",
   "metadata": {},
   "source": [
    "## Initialize and setup up simulation parameters"
   ]
  },
  {
   "cell_type": "code",
   "execution_count": null,
   "metadata": {},
   "outputs": [],
   "source": [
    "from phill.solver import Simul\n",
    "\n",
    "params = Simul.create_default_params()"
   ]
  },
  {
   "cell_type": "markdown",
   "metadata": {},
   "source": [
    "The `params` object gives you a consolidated view of the parameters which are spread out in a typical Nek5000 case into `.par`, `.box` and `SIZE` file.  Already we seen that the parameters are more verbose, easier to understand. As a bonus, some parameters which depend on others are automatically set. For example, see {py:mod}`snek5000.operators`.\n",
    "\n",
    "Now let us take a look at all the compilation parameters that we can modify. In a console the params would also output as follows:"
   ]
  },
  {
   "cell_type": "code",
   "execution_count": null,
   "metadata": {},
   "outputs": [],
   "source": [
    "print(params)"
   ]
  },
  {
   "cell_type": "markdown",
   "metadata": {},
   "source": [
    "One can print some help about some parameters. For example, for `params.oper`:"
   ]
  },
  {
   "cell_type": "code",
   "execution_count": null,
   "metadata": {},
   "outputs": [],
   "source": [
    "params.oper._print_docs()"
   ]
  },
  {
   "cell_type": "markdown",
   "metadata": {},
   "source": [
    "The parameters can be modified. For instance, let us tweak the number of elements, time-stepping and I/O parameters"
   ]
  },
  {
   "cell_type": "code",
   "execution_count": null,
   "metadata": {},
   "outputs": [],
   "source": [
    "# This affects both the box and SIZE files\n",
    "params.oper.nx = 12\n",
    "params.oper.ny = 10\n",
    "params.oper.nz = 8\n",
    "\n",
    "params.oper.nproc_min = 2\n",
    "\n",
    "# This affects the par file \n",
    "params.nek.general.num_steps = 10\n",
    "params.nek.general.time_stepper = \"bdf2\"\n",
    "params.nek.general.write_interval = 10\n",
    "\n",
    "params.nek.stat.av_step = 3\n",
    "params.nek.stat.io_step = 10"
   ]
  },
  {
   "cell_type": "markdown",
   "metadata": {},
   "source": [
    "Now initialize the simulation. This would copy the files based on the templates we have specified."
   ]
  },
  {
   "cell_type": "code",
   "execution_count": null,
   "metadata": {},
   "outputs": [],
   "source": [
    "sim = Simul(params)\n",
    "sim.path_run"
   ]
  },
  {
   "cell_type": "code",
   "execution_count": null,
   "metadata": {},
   "outputs": [],
   "source": [
    "!ls {sim.path_run}"
   ]
  },
  {
   "cell_type": "markdown",
   "metadata": {
    "tags": []
   },
   "source": [
    "## Versions used in this tutorial"
   ]
  },
  {
   "cell_type": "code",
   "execution_count": null,
   "metadata": {},
   "outputs": [],
   "source": [
    "import snakemake\n",
    "snakemake.__version__"
   ]
  },
  {
   "cell_type": "code",
   "execution_count": null,
   "metadata": {
    "lines_to_next_cell": 0
   },
   "outputs": [],
   "source": [
    "import snek5000\n",
    "snek5000.__version__"
   ]
  },
  {
   "cell_type": "code",
   "execution_count": null,
   "metadata": {},
   "outputs": [],
   "source": [
    "import phill\n",
    "phill.__version__"
   ]
  }
 ],
 "metadata": {
  "kernelspec": {
   "display_name": "Python 3",
   "language": "python",
   "name": "python3"
  },
  "language_info": {
   "codemirror_mode": {
    "name": "ipython",
    "version": 3
   },
   "file_extension": ".py",
   "mimetype": "text/x-python",
   "name": "python",
   "nbconvert_exporter": "python",
   "pygments_lexer": "ipython3",
   "version": "3.8.9"
  }
 },
 "nbformat": 4,
 "nbformat_minor": 4
}

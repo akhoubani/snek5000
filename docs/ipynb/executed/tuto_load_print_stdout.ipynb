{
 "cells": [
  {
   "cell_type": "markdown",
   "id": "aff8cb0d-fc43-424a-b19d-46912ecd0018",
   "metadata": {
    "tags": []
   },
   "source": [
    "# Loading simulations and visualizing data from standard output\n",
    "\n",
    "## Verification of Taylor-Green vortex case\n",
    "\n",
    "See [`snek5000-tgv`](https://github.com/exabl/snek5000/tree/main/docs/examples/snek5000-tgv) for the implementation. The simulation was executed as follows:\n",
    "\n",
    "```py\n",
    "from snek5000_tgv.solver import Simul\n",
    "\n",
    "\n",
    "params = Simul.create_default_params()\n",
    "sim = Simul(params)\n",
    "sim.make.exec()\n",
    "```\n",
    "\n",
    "Here we load and process the output."
   ]
  },
  {
   "cell_type": "code",
   "execution_count": 1,
   "id": "0a67cc61-8309-4926-b13f-4499ef6d9994",
   "metadata": {},
   "outputs": [
    {
     "data": {
      "text/html": [
       "<pre style=\"white-space:pre;overflow-x:auto;line-height:normal;font-family:Menlo,'DejaVu Sans Mono',consolas,'Courier New',monospace\"><span style=\"color: #7fbfbf; text-decoration-color: #7fbfbf\">[11/12/21 15:10:14] </span><span style=\"color: #000080; text-decoration-color: #000080\">INFO    </span> Trying to open the path relative to $FLUIDSIM_PATH  <a href=\"file:///home/avmo/src/snek5000/snek5000/src/snek5000/util/files.py\"><span style=\"color: #7f7f7f; text-decoration-color: #7f7f7f\">files.py</span></a><span style=\"color: #7f7f7f; text-decoration-color: #7f7f7f\">:126</span>\n",
       "</pre>\n"
      ],
      "text/plain": [
       "\u001b[2;36m[11/12/21 15:10:14]\u001b[0m\u001b[2;36m \u001b[0m\u001b[34mINFO    \u001b[0m Trying to open the path relative to $FLUIDSIM_PATH  \u001b]8;id=677247;file:///home/avmo/src/snek5000/snek5000/src/snek5000/util/files.py\u001b\\\u001b[2mfiles.py\u001b[0m\u001b]8;;\u001b\\\u001b[2m:126\u001b[0m\n"
      ]
     },
     "metadata": {},
     "output_type": "display_data"
    },
    {
     "data": {
      "text/html": [
       "<pre style=\"white-space:pre;overflow-x:auto;line-height:normal;font-family:Menlo,'DejaVu Sans Mono',consolas,'Courier New',monospace\"><span style=\"color: #7fbfbf; text-decoration-color: #7fbfbf\">                    </span><span style=\"color: #800000; text-decoration-color: #800000\">WARNING </span> Missing a configuration file describing compilers    <a href=\"file:///home/avmo/src/snek5000/snek5000/src/snek5000/output/base.py\"><span style=\"color: #7f7f7f; text-decoration-color: #7f7f7f\">base.py</span></a><span style=\"color: #7f7f7f; text-decoration-color: #7f7f7f\">:209</span>\n",
       "                             and flags. Create one at either of the following                \n",
       "                             paths to avoid future warnings:                                 \n",
       "                             <span style=\"color: #800080; text-decoration-color: #800080\">/home/avmo/.config/snek5000/</span><span style=\"color: #ff00ff; text-decoration-color: #ff00ff\">archmage.yml</span>                        \n",
       "                             <span style=\"color: #800080; text-decoration-color: #800080\">/home/avmo/src/snek5000/snek5000/docs/examples/snek5</span>            \n",
       "                             <span style=\"color: #800080; text-decoration-color: #800080\">000-tgv/src/snek5000_tgv/etc/</span><span style=\"color: #ff00ff; text-decoration-color: #ff00ff\">archmage.yml</span>                       \n",
       "</pre>\n"
      ],
      "text/plain": [
       "\u001b[2;36m                   \u001b[0m\u001b[2;36m \u001b[0m\u001b[31mWARNING \u001b[0m Missing a configuration file describing compilers    \u001b]8;id=122146;file:///home/avmo/src/snek5000/snek5000/src/snek5000/output/base.py\u001b\\\u001b[2mbase.py\u001b[0m\u001b]8;;\u001b\\\u001b[2m:209\u001b[0m\n",
       "                             and flags. Create one at either of the following                \n",
       "                             paths to avoid future warnings:                                 \n",
       "                             \u001b[35m/home/avmo/.config/snek5000/\u001b[0m\u001b[95marchmage.yml\u001b[0m                        \n",
       "                             \u001b[35m/home/avmo/src/snek5000/snek5000/docs/examples/snek5\u001b[0m            \n",
       "                             \u001b[35m000-tgv/src/snek5000_tgv/etc/\u001b[0m\u001b[95marchmage.yml\u001b[0m                       \n"
      ]
     },
     "metadata": {},
     "output_type": "display_data"
    },
    {
     "data": {
      "text/html": [
       "<pre style=\"white-space:pre;overflow-x:auto;line-height:normal;font-family:Menlo,'DejaVu Sans Mono',consolas,'Courier New',monospace\"><span style=\"color: #7fbfbf; text-decoration-color: #7fbfbf\">                    </span><span style=\"color: #000080; text-decoration-color: #000080\">INFO    </span> Using default configuration for now:                 <a href=\"file:///home/avmo/src/snek5000/snek5000/src/snek5000/output/base.py\"><span style=\"color: #7f7f7f; text-decoration-color: #7f7f7f\">base.py</span></a><span style=\"color: #7f7f7f; text-decoration-color: #7f7f7f\">:218</span>\n",
       "                             <span style=\"color: #800080; text-decoration-color: #800080\">/home/avmo/src/snek5000/snek5000/src/snek5000/assets</span>            \n",
       "                             <span style=\"color: #800080; text-decoration-color: #800080\">/</span><span style=\"color: #ff00ff; text-decoration-color: #ff00ff\">default_configfile.yml</span>                                         \n",
       "</pre>\n"
      ],
      "text/plain": [
       "\u001b[2;36m                   \u001b[0m\u001b[2;36m \u001b[0m\u001b[34mINFO    \u001b[0m Using default configuration for now:                 \u001b]8;id=585356;file:///home/avmo/src/snek5000/snek5000/src/snek5000/output/base.py\u001b\\\u001b[2mbase.py\u001b[0m\u001b]8;;\u001b\\\u001b[2m:218\u001b[0m\n",
       "                             \u001b[35m/home/avmo/src/snek5000/snek5000/src/snek5000/assets\u001b[0m            \n",
       "                             \u001b[35m/\u001b[0m\u001b[95mdefault_configfile.yml\u001b[0m                                         \n"
      ]
     },
     "metadata": {},
     "output_type": "display_data"
    },
    {
     "data": {
      "text/html": [
       "<pre style=\"white-space:pre;overflow-x:auto;line-height:normal;font-family:Menlo,'DejaVu Sans Mono',consolas,'Courier New',monospace\"><span style=\"color: #7fbfbf; text-decoration-color: #7fbfbf\">                    </span><span style=\"color: #000080; text-decoration-color: #000080\">INFO    </span> ******************************************           <a href=\"file:///home/avmo/src/snek5000/snek5000/src/snek5000/output/base.py\"><span style=\"color: #7f7f7f; text-decoration-color: #7f7f7f\">base.py</span></a><span style=\"color: #7f7f7f; text-decoration-color: #7f7f7f\">:634</span>\n",
       "</pre>\n"
      ],
      "text/plain": [
       "\u001b[2;36m                   \u001b[0m\u001b[2;36m \u001b[0m\u001b[34mINFO    \u001b[0m ******************************************           \u001b]8;id=976021;file:///home/avmo/src/snek5000/snek5000/src/snek5000/output/base.py\u001b\\\u001b[2mbase.py\u001b[0m\u001b]8;;\u001b\\\u001b[2m:634\u001b[0m\n"
      ]
     },
     "metadata": {},
     "output_type": "display_data"
    },
    {
     "data": {
      "text/html": [
       "<pre style=\"white-space:pre;overflow-x:auto;line-height:normal;font-family:Menlo,'DejaVu Sans Mono',consolas,'Courier New',monospace\"><span style=\"color: #7fbfbf; text-decoration-color: #7fbfbf\">                    </span><span style=\"color: #000080; text-decoration-color: #000080\">INFO    </span> solver: <span style=\"font-weight: bold\">&lt;</span><span style=\"color: #ff00ff; text-decoration-color: #ff00ff; font-weight: bold\">class</span><span style=\"color: #000000; text-decoration-color: #000000\"> </span><span style=\"color: #008000; text-decoration-color: #008000\">'snek5000_tgv.output.OutputTGV'</span><span style=\"font-weight: bold\">&gt;</span>      <a href=\"file:///home/avmo/src/snek5000/snek5000/src/snek5000/output/base.py\"><span style=\"color: #7f7f7f; text-decoration-color: #7f7f7f\">base.py</span></a><span style=\"color: #7f7f7f; text-decoration-color: #7f7f7f\">:635</span>\n",
       "</pre>\n"
      ],
      "text/plain": [
       "\u001b[2;36m                   \u001b[0m\u001b[2;36m \u001b[0m\u001b[34mINFO    \u001b[0m solver: \u001b[1m<\u001b[0m\u001b[1;95mclass\u001b[0m\u001b[39m \u001b[0m\u001b[32m'snek5000_tgv.output.OutputTGV'\u001b[0m\u001b[1m>\u001b[0m      \u001b]8;id=358971;file:///home/avmo/src/snek5000/snek5000/src/snek5000/output/base.py\u001b\\\u001b[2mbase.py\u001b[0m\u001b]8;;\u001b\\\u001b[2m:635\u001b[0m\n"
      ]
     },
     "metadata": {},
     "output_type": "display_data"
    },
    {
     "data": {
      "text/html": [
       "<pre style=\"white-space:pre;overflow-x:auto;line-height:normal;font-family:Menlo,'DejaVu Sans Mono',consolas,'Courier New',monospace\"><span style=\"color: #7fbfbf; text-decoration-color: #7fbfbf\">                    </span><span style=\"color: #000080; text-decoration-color: #000080\">INFO    </span> path_run: <span style=\"color: #800080; text-decoration-color: #800080\">/home/avmo/.local/scratch/data/</span><span style=\"color: #ff00ff; text-decoration-color: #ff00ff\">tgv_run_8x8</span> <a href=\"file:///home/avmo/src/snek5000/snek5000/src/snek5000/output/base.py\"><span style=\"color: #7f7f7f; text-decoration-color: #7f7f7f\">base.py</span></a><span style=\"color: #7f7f7f; text-decoration-color: #7f7f7f\">:636</span>\n",
       "                             <span style=\"color: #ff00ff; text-decoration-color: #ff00ff\">x8_V1pix1pix1pi_2021-11-12_10-27-42</span>                             \n",
       "</pre>\n"
      ],
      "text/plain": [
       "\u001b[2;36m                   \u001b[0m\u001b[2;36m \u001b[0m\u001b[34mINFO    \u001b[0m path_run: \u001b[35m/home/avmo/.local/scratch/data/\u001b[0m\u001b[95mtgv_run_8x8\u001b[0m \u001b]8;id=472679;file:///home/avmo/src/snek5000/snek5000/src/snek5000/output/base.py\u001b\\\u001b[2mbase.py\u001b[0m\u001b]8;;\u001b\\\u001b[2m:636\u001b[0m\n",
       "                             \u001b[95mx8_V1pix1pix1pi_2021-11-12_10-27-42\u001b[0m                             \n"
      ]
     },
     "metadata": {},
     "output_type": "display_data"
    },
    {
     "data": {
      "text/html": [
       "<pre style=\"white-space:pre;overflow-x:auto;line-height:normal;font-family:Menlo,'DejaVu Sans Mono',consolas,'Courier New',monospace\"><span style=\"color: #7fbfbf; text-decoration-color: #7fbfbf\">                    </span><span style=\"color: #000080; text-decoration-color: #000080\">INFO    </span> ******************************************           <a href=\"file:///home/avmo/src/snek5000/snek5000/src/snek5000/output/base.py\"><span style=\"color: #7f7f7f; text-decoration-color: #7f7f7f\">base.py</span></a><span style=\"color: #7f7f7f; text-decoration-color: #7f7f7f\">:637</span>\n",
       "</pre>\n"
      ],
      "text/plain": [
       "\u001b[2;36m                   \u001b[0m\u001b[2;36m \u001b[0m\u001b[34mINFO    \u001b[0m ******************************************           \u001b]8;id=725635;file:///home/avmo/src/snek5000/snek5000/src/snek5000/output/base.py\u001b\\\u001b[2mbase.py\u001b[0m\u001b]8;;\u001b\\\u001b[2m:637\u001b[0m\n"
      ]
     },
     "metadata": {},
     "output_type": "display_data"
    },
    {
     "name": "stdout",
     "output_type": "stream",
     "text": [
      "sim:                <class 'snek5000_tgv.solver.SimulTGV'>\n",
      "sim.output:         <class 'snek5000_tgv.output.OutputTGV'>\n"
     ]
    }
   ],
   "source": [
    "from snek5000 import load\n",
    "\n",
    "sim = load(\"tgv_run_8x8x8_V1pix1pix1pi_2021-11-12_10-27-42\")"
   ]
  },
  {
   "cell_type": "markdown",
   "id": "11a7ada8-7c6a-499a-9452-f9041f454de8",
   "metadata": {},
   "source": [
    "## Visualize raw data via ``sim.output.print_stdout``\n",
    "\n",
    "In subroutine `userchk` of `tgv.usr.f`, the time stamp, kinetic energy and enstrophy are output into standard output, with a keyword `monitor` at the end of the line. We can use regular expressions to extract these lines. If you are new to regular expressions, this website can help you <https://regex101.com/>."
   ]
  },
  {
   "cell_type": "code",
   "execution_count": 2,
   "id": "1b197b75-9a68-4ff2-9561-5efd04db626a",
   "metadata": {},
   "outputs": [
    {
     "data": {
      "text/html": [
       "<pre style=\"white-space:pre;overflow-x:auto;line-height:normal;font-family:Menlo,'DejaVu Sans Mono',consolas,'Courier New',monospace\"><span style=\"color: #7fbfbf; text-decoration-color: #7fbfbf\">[11/12/21 15:10:22] </span><span style=\"color: #000080; text-decoration-color: #000080\">INFO    </span> Searching for a log file<span style=\"color: #808000; text-decoration-color: #808000\">...</span>                   <a href=\"file:///home/avmo/src/snek5000/snek5000/src/snek5000/output/print_stdout.py\"><span style=\"color: #7f7f7f; text-decoration-color: #7f7f7f\">print_stdout.py</span></a><span style=\"color: #7f7f7f; text-decoration-color: #7f7f7f\">:29</span>\n",
       "</pre>\n"
      ],
      "text/plain": [
       "\u001b[2;36m[11/12/21 15:10:22]\u001b[0m\u001b[2;36m \u001b[0m\u001b[34mINFO    \u001b[0m Searching for a log file\u001b[33m...\u001b[0m                   \u001b]8;id=787945;file:///home/avmo/src/snek5000/snek5000/src/snek5000/output/print_stdout.py\u001b\\\u001b[2mprint_stdout.py\u001b[0m\u001b]8;;\u001b\\\u001b[2m:29\u001b[0m\n"
      ]
     },
     "metadata": {},
     "output_type": "display_data"
    },
    {
     "data": {
      "text/plain": [
       "['   0.0000E+00   1.2500E-01   3.7500E-01 ',\n",
       " '   5.0000E-01   1.2476E-01   3.8418E-01 ',\n",
       " '   1.0000E+00   1.2451E-01   4.1504E-01 ',\n",
       " '   1.5000E+00   1.2423E-01   4.7292E-01 ',\n",
       " '   2.0000E+00   1.2391E-01   5.6602E-01 ',\n",
       " '   2.5000E+00   1.2352E-01   7.0473E-01 ',\n",
       " '   3.0000E+00   1.2302E-01   9.0194E-01 ',\n",
       " '   3.5000E+00   1.2236E-01   1.1860E+00 ',\n",
       " '   4.0000E+00   1.2143E-01   1.6307E+00 ',\n",
       " '   4.5000E+00   1.2001E-01   2.3444E+00 ',\n",
       " '   5.0000E+00   1.1776E-01   3.2496E+00 ',\n",
       " '   5.5000E+00   1.1530E-01   3.9581E+00 ',\n",
       " '   6.0000E+00   1.1258E-01   4.6560E+00 ',\n",
       " '   6.5000E+00   1.0921E-01   5.6664E+00 ',\n",
       " '   7.0000E+00   1.0498E-01   6.6638E+00 ',\n",
       " '   7.5000E+00   1.0013E-01   7.5919E+00 ',\n",
       " '   8.0000E+00   9.4446E-02   8.3471E+00 ',\n",
       " '   8.5000E+00   8.8442E-02   8.6116E+00 ',\n",
       " '   9.0000E+00   8.2157E-02   8.8213E+00 ',\n",
       " '   9.5000E+00   7.6227E-02   8.2313E+00 ',\n",
       " '   1.0000E+01   7.0723E-02   7.8817E+00 ',\n",
       " '   1.0500E+01   6.5350E-02   7.7685E+00 ',\n",
       " '   1.1000E+01   6.0131E-02   7.5665E+00 ',\n",
       " '   1.1500E+01   5.5136E-02   7.3362E+00 ',\n",
       " '   1.2000E+01   5.0323E-02   6.7903E+00 ',\n",
       " '   1.2500E+01   4.6143E-02   5.8107E+00 ',\n",
       " '   1.3000E+01   4.2490E-02   5.2746E+00 ',\n",
       " '   1.3500E+01   3.9236E-02   4.6116E+00 ',\n",
       " '   1.4000E+01   3.6426E-02   3.9739E+00 ',\n",
       " '   1.4500E+01   3.3953E-02   3.5195E+00 ',\n",
       " '   1.5000E+01   3.1749E-02   3.1533E+00 ',\n",
       " '   1.5500E+01   2.9786E-02   2.8365E+00 ',\n",
       " '   1.6000E+01   2.7996E-02   2.5802E+00 ',\n",
       " '   1.6500E+01   2.6363E-02   2.3575E+00 ',\n",
       " '   1.7000E+01   2.4870E-02   2.1772E+00 ',\n",
       " '   1.7500E+01   2.3510E-02   1.9945E+00 ',\n",
       " '   1.8000E+01   2.2273E-02   1.8077E+00 ',\n",
       " '   1.8500E+01   2.1148E-02   1.6439E+00 ',\n",
       " '   1.9000E+01   2.0115E-02   1.5100E+00 ',\n",
       " '   1.9500E+01   1.9158E-02   1.4139E+00 ',\n",
       " '   2.0000E+01   1.8257E-02   1.3348E+00 ']"
      ]
     },
     "execution_count": 2,
     "metadata": {},
     "output_type": "execute_result"
    }
   ],
   "source": [
    "import re\n",
    "\n",
    "monitor = re.findall('(.*)monitor$', sim.output.print_stdout.text, re.MULTILINE)\n",
    "monitor"
   ]
  },
  {
   "cell_type": "markdown",
   "id": "6e062312-fb5f-401c-a3c5-da2edfd97203",
   "metadata": {},
   "source": [
    "It is also possible to achieve the same using Python's string manipulation and list comprehension:\n",
    "\n",
    "```py\n",
    "monitor = [\n",
    "    line[:-len(\"monitor\")]  # Or in Python >= 3.9, line.removesuffix(\"monitor\")\n",
    "    for line in sim.output.print_stdout.text.splitlines()\n",
    "    if line.endswith(\"monitor\")\n",
    "]\n",
    "```"
   ]
  },
  {
   "cell_type": "code",
   "execution_count": 3,
   "id": "d1461f34-7d89-4e49-b61b-53e6c43d846f",
   "metadata": {},
   "outputs": [
    {
     "data": {
      "text/html": [
       "<div>\n",
       "<style scoped>\n",
       "    .dataframe tbody tr th:only-of-type {\n",
       "        vertical-align: middle;\n",
       "    }\n",
       "\n",
       "    .dataframe tbody tr th {\n",
       "        vertical-align: top;\n",
       "    }\n",
       "\n",
       "    .dataframe thead th {\n",
       "        text-align: right;\n",
       "    }\n",
       "</style>\n",
       "<table border=\"1\" class=\"dataframe\">\n",
       "  <thead>\n",
       "    <tr style=\"text-align: right;\">\n",
       "      <th></th>\n",
       "      <th>time</th>\n",
       "      <th>energy</th>\n",
       "      <th>enstrophy</th>\n",
       "    </tr>\n",
       "  </thead>\n",
       "  <tbody>\n",
       "    <tr>\n",
       "      <th>0</th>\n",
       "      <td>0.0</td>\n",
       "      <td>0.12500</td>\n",
       "      <td>0.37500</td>\n",
       "    </tr>\n",
       "    <tr>\n",
       "      <th>1</th>\n",
       "      <td>0.5</td>\n",
       "      <td>0.12476</td>\n",
       "      <td>0.38418</td>\n",
       "    </tr>\n",
       "    <tr>\n",
       "      <th>2</th>\n",
       "      <td>1.0</td>\n",
       "      <td>0.12451</td>\n",
       "      <td>0.41504</td>\n",
       "    </tr>\n",
       "    <tr>\n",
       "      <th>3</th>\n",
       "      <td>1.5</td>\n",
       "      <td>0.12423</td>\n",
       "      <td>0.47292</td>\n",
       "    </tr>\n",
       "    <tr>\n",
       "      <th>4</th>\n",
       "      <td>2.0</td>\n",
       "      <td>0.12391</td>\n",
       "      <td>0.56602</td>\n",
       "    </tr>\n",
       "  </tbody>\n",
       "</table>\n",
       "</div>"
      ],
      "text/plain": [
       "   time   energy  enstrophy\n",
       "0   0.0  0.12500    0.37500\n",
       "1   0.5  0.12476    0.38418\n",
       "2   1.0  0.12451    0.41504\n",
       "3   1.5  0.12423    0.47292\n",
       "4   2.0  0.12391    0.56602"
      ]
     },
     "execution_count": 3,
     "metadata": {},
     "output_type": "execute_result"
    }
   ],
   "source": [
    "import pandas as pd\n",
    "\n",
    "df = pd.DataFrame(\n",
    "    ((float(value) for value in line.split()) for line in monitor),\n",
    "    columns=(\"time\", \"energy\", \"enstrophy\")\n",
    ")\n",
    "df.head()"
   ]
  },
  {
   "cell_type": "markdown",
   "id": "3737f0b1-cd2c-4bed-8791-9fc09d207bf8",
   "metadata": {},
   "source": [
    "### Reference data"
   ]
  },
  {
   "cell_type": "code",
   "execution_count": 4,
   "id": "94f7fc4a-1fb2-4908-b69b-c4ce7f669515",
   "metadata": {},
   "outputs": [
    {
     "data": {
      "text/html": [
       "<div>\n",
       "<style scoped>\n",
       "    .dataframe tbody tr th:only-of-type {\n",
       "        vertical-align: middle;\n",
       "    }\n",
       "\n",
       "    .dataframe tbody tr th {\n",
       "        vertical-align: top;\n",
       "    }\n",
       "\n",
       "    .dataframe thead th {\n",
       "        text-align: right;\n",
       "    }\n",
       "</style>\n",
       "<table border=\"1\" class=\"dataframe\">\n",
       "  <thead>\n",
       "    <tr style=\"text-align: right;\">\n",
       "      <th></th>\n",
       "      <th>time</th>\n",
       "      <th>ref:energy</th>\n",
       "      <th>ref:dE/dt</th>\n",
       "      <th>ref:enstrophy</th>\n",
       "    </tr>\n",
       "  </thead>\n",
       "  <tbody>\n",
       "    <tr>\n",
       "      <th>0</th>\n",
       "      <td>0.00</td>\n",
       "      <td>0.125000</td>\n",
       "      <td>0.000469</td>\n",
       "      <td>0.375000</td>\n",
       "    </tr>\n",
       "    <tr>\n",
       "      <th>1</th>\n",
       "      <td>0.01</td>\n",
       "      <td>0.124995</td>\n",
       "      <td>0.000469</td>\n",
       "      <td>0.374990</td>\n",
       "    </tr>\n",
       "    <tr>\n",
       "      <th>2</th>\n",
       "      <td>0.02</td>\n",
       "      <td>0.124991</td>\n",
       "      <td>0.000469</td>\n",
       "      <td>0.374987</td>\n",
       "    </tr>\n",
       "    <tr>\n",
       "      <th>3</th>\n",
       "      <td>0.03</td>\n",
       "      <td>0.124986</td>\n",
       "      <td>0.000469</td>\n",
       "      <td>0.374993</td>\n",
       "    </tr>\n",
       "    <tr>\n",
       "      <th>4</th>\n",
       "      <td>0.04</td>\n",
       "      <td>0.124981</td>\n",
       "      <td>0.000469</td>\n",
       "      <td>0.375006</td>\n",
       "    </tr>\n",
       "  </tbody>\n",
       "</table>\n",
       "</div>"
      ],
      "text/plain": [
       "   time  ref:energy  ref:dE/dt  ref:enstrophy\n",
       "0  0.00    0.125000   0.000469       0.375000\n",
       "1  0.01    0.124995   0.000469       0.374990\n",
       "2  0.02    0.124991   0.000469       0.374987\n",
       "3  0.03    0.124986   0.000469       0.374993\n",
       "4  0.04    0.124981   0.000469       0.375006"
      ]
     },
     "execution_count": 4,
     "metadata": {},
     "output_type": "execute_result"
    }
   ],
   "source": [
    "ref = pd.read_csv(\n",
    "    \"../../../lib/Nek5000/examples/tgv/ref/data\",\n",
    "    sep=\" \",\n",
    "    names=(\"time\", \"ref:energy\", \"ref:dE/dt\", \"ref:enstrophy\"),\n",
    "    comment=\"#\"\n",
    ")\n",
    "ref.head()"
   ]
  },
  {
   "cell_type": "markdown",
   "id": "c9409231-71e7-4c53-9181-2637c3505fdc",
   "metadata": {},
   "source": [
    "### Result"
   ]
  },
  {
   "cell_type": "code",
   "execution_count": 5,
   "id": "e1074023-076c-4a00-a46a-f7ead0271daf",
   "metadata": {
    "tags": []
   },
   "outputs": [
    {
     "data": {
      "image/png": "[encoded data removed]",
      "text/plain": [
       "<Figure size 640x480 with 1 Axes>"
      ]
     },
     "metadata": {},
     "output_type": "display_data"
    }
   ],
   "source": [
    "ax = df.plot(\"time\", [\"enstrophy\", \"energy\"], logy=True, colormap=\"Accent\")\n",
    "ref.plot(\n",
    "    \"time\",\n",
    "    [\"ref:enstrophy\", \"ref:energy\"],\n",
    "    ax=ax,\n",
    "    style=\"--\",\n",
    "    logy=True,\n",
    "    colormap=\"Accent\"\n",
    ")\n",
    "_ = ax.set(\n",
    "    title=f\"Taylor-Green vortex: evolution of K.E. and enstrophy. Re={-sim.params.nek.velocity.viscosity}\"\n",
    ")"
   ]
  }
 ],
 "metadata": {
  "kernelspec": {
   "display_name": "py-snek",
   "language": "python",
   "name": "py-snek"
  },
  "language_info": {
   "codemirror_mode": {
    "name": "ipython",
    "version": 3
   },
   "file_extension": ".py",
   "mimetype": "text/x-python",
   "name": "python",
   "nbconvert_exporter": "python",
   "pygments_lexer": "ipython3",
   "version": "3.8.9"
  }
 },
 "nbformat": 4,
 "nbformat_minor": 5
}
